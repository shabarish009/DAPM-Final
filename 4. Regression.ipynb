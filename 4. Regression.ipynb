{
 "cells": [
  {
   "cell_type": "code",
   "execution_count": 3,
   "id": "af2374aa-966e-41ca-84ee-bf58725fb451",
   "metadata": {},
   "outputs": [
    {
     "name": "stdout",
     "output_type": "stream",
     "text": [
      "Results for target: Gross Domestic Product (GDP)\n",
      "Ridge Regression - MSE: 0.0021383200195585644 R2 Score: 0.9978930891802643\n",
      "Lasso Regression - MSE: 0.012297142307610262 R2 Score: 0.9878834870633244\n",
      "\n",
      "\n",
      "Results for target: Gross National Income(GNI) in USD\n",
      "Ridge Regression - MSE: 0.0045653164206237995 R2 Score: 0.9955026462856515\n",
      "Lasso Regression - MSE: 0.015160518362339549 R2 Score: 0.9850651724247846\n",
      "\n",
      "\n",
      "Results for target: Trade Balance\n",
      "Ridge Regression - MSE: 0.8817869419440926 R2 Score: 0.08457861119123444\n",
      "Lasso Regression - MSE: 0.9409148713453898 R2 Score: 0.02319533516926553\n",
      "\n",
      "\n",
      "Results for target: Sectoral Output\n",
      "Ridge Regression - MSE: 0.00380453473726041 R2 Score: 0.9962611953577756\n",
      "Lasso Regression - MSE: 0.01450642110556512 R2 Score: 0.9857442030847104\n",
      "\n",
      "\n"
     ]
    }
   ],
   "source": [
    "import pandas as pd\n",
    "from sklearn.model_selection import train_test_split\n",
    "from sklearn.linear_model import Ridge, Lasso\n",
    "from sklearn.metrics import mean_squared_error, r2_score\n",
    "\n",
    "# Load your dataset\n",
    "data = pd.read_csv(r'C:\\Users\\asus\\Desktop\\Assignment\\Second Assignment\\Preprocessed_with_clusters.csv')\n",
    "\n",
    "# Research Question 1: Key Economic Drivers\n",
    "target_RQ1 = 'Gross Domestic Product (GDP)'\n",
    "features_RQ1 = ['Gross National Income(GNI) in USD', 'Trade Balance', 'Sectoral Output']\n",
    "\n",
    "# Research Question 2: Economic Resilience\n",
    "target_RQ2 = 'Gross National Income(GNI) in USD'\n",
    "features_RQ2 = ['Gross Domestic Product (GDP)', 'Trade Balance', 'Sectoral Output']\n",
    "\n",
    "# Research Question 3: Trade’s Role in Economic Stability\n",
    "target_RQ3 = 'Trade Balance'\n",
    "features_RQ3 = ['Gross Domestic Product (GDP)', 'Gross National Income(GNI) in USD', 'Sectoral Output']\n",
    "\n",
    "# Research Question 4: Sector Contributions to GDP\n",
    "target_RQ4 = 'Sectoral Output'\n",
    "features_RQ4 = ['Gross Domestic Product (GDP)', 'Gross National Income(GNI) in USD', 'Trade Balance']\n",
    "\n",
    "# Function to perform regression and print results\n",
    "def perform_regression(target, features):\n",
    "    X = data[features]\n",
    "    y = data[target]\n",
    "\n",
    "    X_train, X_test, y_train, y_test = train_test_split(X, y, test_size=0.3, random_state=42)\n",
    "\n",
    "    ridge = Ridge(alpha=1.0)\n",
    "    lasso = Lasso(alpha=0.1)\n",
    "\n",
    "    ridge.fit(X_train, y_train)\n",
    "    lasso.fit(X_train, y_train)\n",
    "\n",
    "    y_pred_ridge = ridge.predict(X_test)\n",
    "    y_pred_lasso = lasso.predict(X_test)\n",
    "\n",
    "    mse_ridge = mean_squared_error(y_test, y_pred_ridge)\n",
    "    r2_ridge = r2_score(y_test, y_pred_ridge)\n",
    "\n",
    "    mse_lasso = mean_squared_error(y_test, y_pred_lasso)\n",
    "    r2_lasso = r2_score(y_test, y_pred_lasso)\n",
    "\n",
    "    print(f\"Results for target: {target}\")\n",
    "    print(\"Ridge Regression - MSE:\", mse_ridge, \"R2 Score:\", r2_ridge)\n",
    "    print(\"Lasso Regression - MSE:\", mse_lasso, \"R2 Score:\", r2_lasso)\n",
    "    print(\"\\n\")\n",
    "\n",
    "# Perform regression for each research question\n",
    "perform_regression(target_RQ1, features_RQ1)\n",
    "perform_regression(target_RQ2, features_RQ2)\n",
    "perform_regression(target_RQ3, features_RQ3)\n",
    "perform_regression(target_RQ4, features_RQ4)\n"
   ]
  }
 ],
 "metadata": {
  "kernelspec": {
   "display_name": "Python 3 (ipykernel)",
   "language": "python",
   "name": "python3"
  },
  "language_info": {
   "codemirror_mode": {
    "name": "ipython",
    "version": 3
   },
   "file_extension": ".py",
   "mimetype": "text/x-python",
   "name": "python",
   "nbconvert_exporter": "python",
   "pygments_lexer": "ipython3",
   "version": "3.10.8"
  }
 },
 "nbformat": 4,
 "nbformat_minor": 5
}
